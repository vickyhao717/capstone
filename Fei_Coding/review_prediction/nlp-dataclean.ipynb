{
 "cells": [
  {
   "cell_type": "code",
   "execution_count": 1,
   "metadata": {},
   "outputs": [],
   "source": [
    "import pandas as pd\n",
    "from pandas import DataFrame, Series\n",
    "import numpy as np\n",
    "import json\n",
    "import matplotlib.pyplot as plt\n",
    "import re\n",
    "import random"
   ]
  },
  {
   "cell_type": "code",
   "execution_count": 2,
   "metadata": {},
   "outputs": [
    {
     "data": {
      "text/plain": [
       "{'address': '1335 rue Beaubien E',\n",
       " 'attributes': {'Alcohol': 'beer_and_wine',\n",
       "  'Ambience': \"{'romantic': False, 'intimate': False, 'classy': False, 'hipster': False, 'touristy': False, 'trendy': False, 'upscale': False, 'casual': False}\",\n",
       "  'BikeParking': 'True',\n",
       "  'BusinessAcceptsCreditCards': 'False',\n",
       "  'BusinessParking': \"{'garage': False, 'street': False, 'validated': False, 'lot': False, 'valet': False}\",\n",
       "  'Caters': 'False',\n",
       "  'GoodForKids': 'True',\n",
       "  'GoodForMeal': \"{'dessert': False, 'latenight': False, 'lunch': False, 'dinner': False, 'breakfast': False, 'brunch': False}\",\n",
       "  'HasTV': 'True',\n",
       "  'NoiseLevel': 'average',\n",
       "  'OutdoorSeating': 'False',\n",
       "  'RestaurantsAttire': 'casual',\n",
       "  'RestaurantsDelivery': 'False',\n",
       "  'RestaurantsGoodForGroups': 'True',\n",
       "  'RestaurantsPriceRange2': '2',\n",
       "  'RestaurantsReservations': 'True',\n",
       "  'RestaurantsTableService': 'True',\n",
       "  'RestaurantsTakeOut': 'False',\n",
       "  'WiFi': 'free'},\n",
       " 'business_id': 'O8S5hYJ1SMc8fA4QBtVujA',\n",
       " 'categories': 'Breakfast & Brunch, Restaurants, French, Sandwiches, Cafes',\n",
       " 'city': 'Montréal',\n",
       " 'hours': {'Friday': '10:0-22:0',\n",
       "  'Monday': '10:0-22:0',\n",
       "  'Saturday': '10:0-22:0',\n",
       "  'Sunday': '10:0-22:0',\n",
       "  'Thursday': '10:0-22:0',\n",
       "  'Tuesday': '10:0-22:0',\n",
       "  'Wednesday': '10:0-22:0'},\n",
       " 'is_open': 0,\n",
       " 'latitude': 45.5405031,\n",
       " 'longitude': -73.5993003,\n",
       " 'name': 'La Bastringue',\n",
       " 'neighborhood': 'Rosemont-La Petite-Patrie',\n",
       " 'postal_code': 'H2G 1K7',\n",
       " 'review_count': 5,\n",
       " 'stars': 4.0,\n",
       " 'state': 'QC'}"
      ]
     },
     "execution_count": 2,
     "metadata": {},
     "output_type": "execute_result"
    }
   ],
   "source": [
    "path='yelp_academic_dataset_business.json'\n",
    "business = [json.loads(line) for line in open(path)]\n",
    "business[2]"
   ]
  },
  {
   "cell_type": "code",
   "execution_count": 3,
   "metadata": {},
   "outputs": [],
   "source": [
    "r=[rec for rec in business if rec['categories'] and 'Restaurants' in rec['categories']]\n",
    "r_open=[rec for rec in r if rec['is_open']==1]\n",
    "r_open = pd.DataFrame(r_open)"
   ]
  },
  {
   "cell_type": "code",
   "execution_count": 6,
   "metadata": {},
   "outputs": [
    {
     "data": {
      "text/plain": [
       "{'business_id': 'jtQARsP6P-LbkyjbO1qNGg',\n",
       " 'cool': 1,\n",
       " 'date': '2014-10-23',\n",
       " 'funny': 1,\n",
       " 'review_id': 'LZp4UX5zK3e-c5ZGSeo3kA',\n",
       " 'stars': 1,\n",
       " 'text': 'Terrible. Dry corn bread. Rib tips were all fat and mushy and had no flavor. If you want bbq in this neighborhood go to john mulls roadkill grill. Trust me.',\n",
       " 'useful': 3,\n",
       " 'user_id': 'msQe1u7Z_XuqjGoqhB0J5g'}"
      ]
     },
     "execution_count": 6,
     "metadata": {},
     "output_type": "execute_result"
    }
   ],
   "source": [
    "path2='yelp_academic_dataset_review.json'\n",
    "reviews=[json.loads(line.decode(\"utf-8\"))for line in open(path2,'rb')]\n",
    "reviews[2]"
   ]
  },
  {
   "cell_type": "code",
   "execution_count": 8,
   "metadata": {},
   "outputs": [],
   "source": [
    "reviews = pd.DataFrame(reviews)"
   ]
  },
  {
   "cell_type": "code",
   "execution_count": 9,
   "metadata": {},
   "outputs": [],
   "source": [
    "business_ID = pd.DataFrame(r_open['business_id'])\n",
    "r_review = pd.merge(business_ID, reviews, on='business_id')"
   ]
  },
  {
   "cell_type": "code",
   "execution_count": 10,
   "metadata": {},
   "outputs": [
    {
     "data": {
      "text/plain": [
       "3115009"
      ]
     },
     "execution_count": 10,
     "metadata": {},
     "output_type": "execute_result"
    }
   ],
   "source": [
    "print(\"length of the restaurants reviews\")\n",
    "print(len(r_review))"
   ]
  },
  {
   "cell_type": "code",
   "execution_count": 11,
   "metadata": {},
   "outputs": [],
   "source": [
    "review_5=r_review[r_review['stars']==5]\n",
    "review_1=r_review[r_review['stars']==1]"
   ]
  },
  {
   "cell_type": "code",
   "execution_count": 12,
   "metadata": {},
   "outputs": [],
   "source": [
    "review_data_5=review_5.transpose()\n",
    "review_dict_5=review_data_5.to_dict()\n",
    "training_list_5=random.sample(list(review_dict_5.values()),50000)\n",
    "jsobject_5=json.dumps(training_list_5)\n",
    "fileobject_5=open('review_sample_5.json','w')\n",
    "fileobject_5.write(jsobject_5)\n",
    "fileobject_5.close()"
   ]
  },
  {
   "cell_type": "code",
   "execution_count": 13,
   "metadata": {},
   "outputs": [],
   "source": [
    "review_data_1=review_1.transpose()\n",
    "review_dict_1=review_data_1.to_dict()\n",
    "training_list_1=random.sample(list(review_dict_1.values()),50000)\n",
    "jsobject_1=json.dumps(training_list_1)\n",
    "fileobject_1=open('review_sample_1.json','w')\n",
    "fileobject_1.write(jsobject_1)\n",
    "fileobject_1.close()"
   ]
  },
  {
   "cell_type": "code",
   "execution_count": 19,
   "metadata": {},
   "outputs": [],
   "source": [
    "review_data=r_review.transpose()\n",
    "review_dict=review_data.to_dict()\n",
    "training_list=random.sample(list(review_dict.values()),100000)\n",
    "jsobject=json.dumps(training_list)\n",
    "fileobject=open('review_sample.json','w')\n",
    "fileobject.write(jsobject)\n",
    "fileobject.close()"
   ]
  },
  {
   "cell_type": "code",
   "execution_count": null,
   "metadata": {},
   "outputs": [],
   "source": []
  }
 ],
 "metadata": {
  "kernelspec": {
   "display_name": "Python 3",
   "language": "python",
   "name": "python3"
  },
  "language_info": {
   "codemirror_mode": {
    "name": "ipython",
    "version": 3
   },
   "file_extension": ".py",
   "mimetype": "text/x-python",
   "name": "python",
   "nbconvert_exporter": "python",
   "pygments_lexer": "ipython3",
   "version": "3.6.4"
  }
 },
 "nbformat": 4,
 "nbformat_minor": 2
}
